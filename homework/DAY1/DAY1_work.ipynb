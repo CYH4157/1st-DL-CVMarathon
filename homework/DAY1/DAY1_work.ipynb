{
 "cells": [
  {
   "cell_type": "markdown",
   "metadata": {},
   "source": [
    "# 作業\n",
    "思考一下我們前面有提到圖片是矩陣，但維度可能會不一樣 例如灰階圖只有兩個維度，RGB 彩圖則有 3 個維度\n",
    "\n",
    "假如今天我們把 RGB 3 個維度拆開來看會有甚麼不同的效果呢？"
   ]
  },
  {
   "cell_type": "code",
   "execution_count": 1,
   "metadata": {},
   "outputs": [],
   "source": [
    "import matplotlib.pyplot as plt \n",
    "import cv2\n",
    "import numpy as np\n",
    "\n",
    "\n",
    "img_path = './lena.png'\n",
    "#img_path = \"lena.png\"\n",
    "\n",
    "# 以彩色圖片的方式載入\n",
    "img = cv2.imread(img_path, cv2.IMREAD_COLOR)\n",
    "\n",
    "# 以灰階圖片的方式載入\n",
    "img_gray = cv2.imread(img_path, cv2.IMREAD_GRAYSCALE)\n",
    "\n",
    "# 注意，openCV 通道排列為 BGR，這個套件通道排序不同\n",
    "# openCV 套件內的 RBG 分離套件\n",
    "#b,g,r = cv2.split(img)\n",
    "\n",
    "# Numpy 分離通道，創建3個跟影像大小的空矩陣\n",
    "\n",
    "b = np.zeros((img.shape[0],img.shape[1]),dtype=img.dtype)\n",
    "g = np.zeros((img.shape[0],img.shape[1]),dtype=img.dtype)\n",
    "r = np.zeros((img.shape[0],img.shape[1]),dtype=img.dtype)\n",
    " \n",
    "b[:,:] = img[:,:,0]  #  b 通道的分量數據\n",
    "g[:,:] = img[:,:,1]  #  g 通道的分量數據\n",
    "r[:,:] = img[:,:,2]  #  r 通道的分量數據\n",
    "\n",
    "\n",
    "# 為了要不斷顯示圖片，所以使用一個迴圈\n",
    "while True:\n",
    "    # 顯示彩圖\n",
    "#    cv2.imshow('RGB', img)\n",
    "    cv2.imshow('r', r)\n",
    "    cv2.imshow('g', g)\n",
    "    cv2.imshow('b', b)\n",
    "#    cv2.imshow('rg', rg)\n",
    "\n",
    "    # 顯示灰圖\n",
    "#    cv2.imshow('gray', img_gray)\n",
    "\n",
    "    # 直到按下 ESC 鍵才會自動關閉視窗結束程式\n",
    "    k = cv2.waitKey(0)\n",
    "    if k == 27:\n",
    "        cv2.destroyAllWindows()\n",
    "        break"
   ]
  },
  {
   "cell_type": "markdown",
   "metadata": {},
   "source": [
    "# 在彩色圖像/RGB圖像中是一個三維矩陣，是一個三維分量RGB，OpenCV讀取相片色彩通道為BGR，若將色為通道各別讀取，僅會呈現單色調的明暗度，以本案例8Bit圖像來說，其明暗度的範圍為0-255，數值越大代表亮度越亮，反之數值越小亮度越暗"
   ]
  },
  {
   "cell_type": "code",
   "execution_count": null,
   "metadata": {},
   "outputs": [],
   "source": []
  }
 ],
 "metadata": {
  "kernelspec": {
   "display_name": "Python 3",
   "language": "python",
   "name": "python3"
  },
  "language_info": {
   "codemirror_mode": {
    "name": "ipython",
    "version": 3
   },
   "file_extension": ".py",
   "mimetype": "text/x-python",
   "name": "python",
   "nbconvert_exporter": "python",
   "pygments_lexer": "ipython3",
   "version": "3.7.3"
  }
 },
 "nbformat": 4,
 "nbformat_minor": 2
}
